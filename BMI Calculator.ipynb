{
 "cells": [
  {
   "cell_type": "code",
   "execution_count": null,
   "id": "c1f05138",
   "metadata": {},
   "outputs": [],
   "source": [
    "name = input('Please enter your name: ')\n",
    "weight = int(input('Please enter your weight in pounds: '))\n",
    "height = int(input('Please enter your height in inches: '))\n",
    "\n",
    "BMI = (weight * 703) / (height*height)\n",
    "\n",
    "print('Your BMI is '+ str(BMI))\n",
    "\n",
    "if BMI > 0:\n",
    "    if(BMI < 18.5):\n",
    "        print(name + ', you are underweight. Please eat more')\n",
    "    elif(BMI>=18.5 and BMI<=24.9):\n",
    "        print(name + ', you are normal weight. Congratulations and maintain the healthy lifestyle')\n",
    "    elif(BMI>=25 and BMI<=29.9):\n",
    "        print(name + ', you are overweight. You need to exercise more and eat less chocolate')\n",
    "    elif(BMI>=30 and BMI<34.9):\n",
    "        print(name + ', you are obese. You need to find a personal trainer and eat more healthy')\n",
    "    elif(BMI>=35 and BMI<=39.9):\n",
    "        print(name + ', you are severely obese. You need to go see doctor and ask for help. Early treatment is to eat clean and exercise')\n",
    "    else:\n",
    "        print(name + ', you are morbidly obese.')\n",
    "else:\n",
    "    print('Please enter a valid input')"
   ]
  },
  {
   "cell_type": "code",
   "execution_count": null,
   "id": "b8b6c786",
   "metadata": {},
   "outputs": [],
   "source": [
    "Under 18.5\tUnderweight\tMinimal\n",
    "18.5 - 24.9\tNormal Weight\tMinimal\n",
    "25 - 29.9\tOverweight\tIncreased\n",
    "30 - 34.9\tObese\tHigh\n",
    "35 - 39.9\tSeverely Obese\tVery High\n",
    "40 and over\tMorbidly Obese\tExtremely High"
   ]
  },
  {
   "cell_type": "code",
   "execution_count": null,
   "id": "70674b7b",
   "metadata": {},
   "outputs": [],
   "source": []
  },
  {
   "cell_type": "code",
   "execution_count": null,
   "id": "c62d546c",
   "metadata": {},
   "outputs": [],
   "source": []
  },
  {
   "cell_type": "code",
   "execution_count": null,
   "id": "aa8f9ce3",
   "metadata": {},
   "outputs": [],
   "source": []
  }
 ],
 "metadata": {
  "kernelspec": {
   "display_name": "Python 3 (ipykernel)",
   "language": "python",
   "name": "python3"
  },
  "language_info": {
   "codemirror_mode": {
    "name": "ipython",
    "version": 3
   },
   "file_extension": ".py",
   "mimetype": "text/x-python",
   "name": "python",
   "nbconvert_exporter": "python",
   "pygments_lexer": "ipython3",
   "version": "3.11.7"
  }
 },
 "nbformat": 4,
 "nbformat_minor": 5
}
